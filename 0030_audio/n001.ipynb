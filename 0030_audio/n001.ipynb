{
 "cells": [
  {
   "cell_type": "code",
   "execution_count": null,
   "id": "37da53d0-1c08-4b6e-99b5-e02edb35a852",
   "metadata": {},
   "outputs": [],
   "source": [
    "import cffi"
   ]
  },
  {
   "cell_type": "code",
   "execution_count": null,
   "id": "dcc7c4cc-5ec8-4d54-9660-6d76c174ecfa",
   "metadata": {},
   "outputs": [],
   "source": [
    "ffibuilder = cffi.FFI()"
   ]
  },
  {
   "cell_type": "code",
   "execution_count": null,
   "id": "52b2d12f-9d88-4af0-84f7-0a994d7756d7",
   "metadata": {},
   "outputs": [],
   "source": [
    "ffibuilder.cdef(\"\"\"\n",
    "  void push(int x);\n",
    "  int getlen();\n",
    "\"\"\")"
   ]
  },
  {
   "cell_type": "code",
   "execution_count": null,
   "id": "a8b60512-64b6-40ca-93a6-b6b8cee3c4c9",
   "metadata": {},
   "outputs": [],
   "source": [
    "ffibuilder.set_source(\"_mymod\", \"\"\"\n",
    "#include <vector>\n",
    "\n",
    "std::vector<int> g_v;\n",
    "\n",
    "extern \"C\" void push(int x) {\n",
    "  g_v.push_back(x);\n",
    "  return;\n",
    "}\n",
    "\n",
    "extern \"C\" int getlen() {\n",
    "  return g_v.size();\n",
    "}\n",
    "\"\"\", source_extension=\".cc\")"
   ]
  },
  {
   "cell_type": "code",
   "execution_count": null,
   "id": "2d862f75-f29d-424e-a1ff-0c5b0cf762a6",
   "metadata": {},
   "outputs": [],
   "source": [
    "ffibuilder.compile(verbose=True)"
   ]
  },
  {
   "cell_type": "code",
   "execution_count": null,
   "id": "dea6cf45-5002-4ce6-846e-ccf4cba0ddc7",
   "metadata": {},
   "outputs": [],
   "source": [
    "import _mymod"
   ]
  },
  {
   "cell_type": "code",
   "execution_count": null,
   "id": "8a9e6ec9-b4e0-4e56-a5ec-8d8297d3dcb9",
   "metadata": {},
   "outputs": [],
   "source": [
    "_mymod.lib.push(1)"
   ]
  },
  {
   "cell_type": "code",
   "execution_count": null,
   "id": "eca52468-1ccd-4932-b9b9-e4b1a6cf3279",
   "metadata": {},
   "outputs": [],
   "source": [
    "_mymod.lib.getlen()"
   ]
  }
 ],
 "metadata": {
  "kernelspec": {
   "display_name": "Python 3 (ipykernel)",
   "language": "python",
   "name": "python3"
  },
  "language_info": {
   "codemirror_mode": {
    "name": "ipython",
    "version": 3
   },
   "file_extension": ".py",
   "mimetype": "text/x-python",
   "name": "python",
   "nbconvert_exporter": "python",
   "pygments_lexer": "ipython3",
   "version": "3.10.12"
  }
 },
 "nbformat": 4,
 "nbformat_minor": 5
}

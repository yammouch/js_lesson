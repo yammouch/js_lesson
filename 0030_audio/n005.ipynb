{
 "cells": [
  {
   "cell_type": "code",
   "execution_count": 1,
   "id": "67d0483f-966c-4ed7-b6cb-fd92859a44f6",
   "metadata": {},
   "outputs": [],
   "source": [
    "import IPython\n",
    "import numpy as np\n",
    "import matplotlib.pyplot as plt\n",
    "import cffi"
   ]
  },
  {
   "cell_type": "code",
   "execution_count": 2,
   "id": "287c5876-b809-45a1-933b-9a80b4d65816",
   "metadata": {},
   "outputs": [],
   "source": [
    "sr = 12000 # sample rate\n",
    "ft = 442*4 # tone freq"
   ]
  },
  {
   "cell_type": "code",
   "execution_count": 3,
   "id": "bce785ba-4c59-48e9-83a0-580c2648521a",
   "metadata": {},
   "outputs": [],
   "source": [
    "tone = np.sin(2*np.pi*ft/sr*np.arange(sr))"
   ]
  },
  {
   "cell_type": "code",
   "execution_count": 4,
   "id": "6508eea7-7aeb-4f11-876c-801a5d7987cc",
   "metadata": {},
   "outputs": [],
   "source": [
    "tone_os = np.zeros((tone.shape[0]*4), dtype=float)"
   ]
  },
  {
   "cell_type": "code",
   "execution_count": 5,
   "id": "9d2f2897-7715-4f0d-a036-3e7e9dea0fca",
   "metadata": {},
   "outputs": [],
   "source": [
    "tone_os[0::4] = tone"
   ]
  },
  {
   "cell_type": "code",
   "execution_count": null,
   "id": "2f284a63-89b5-40bc-b250-0c47ef41db26",
   "metadata": {},
   "outputs": [],
   "source": [
    "fig, ax = plt.subplots()\n",
    "ax.plot(tone_os[:40])"
   ]
  },
  {
   "cell_type": "code",
   "execution_count": null,
   "id": "5ed8b3a4-f534-4c83-a64b-701c7b704349",
   "metadata": {},
   "outputs": [],
   "source": [
    "IPython.display.Audio(tone_os, rate=sr*4)"
   ]
  },
  {
   "cell_type": "code",
   "execution_count": 6,
   "id": "29667672-2b35-4c66-bda5-028cd0b82447",
   "metadata": {},
   "outputs": [],
   "source": [
    "!g++ -shared -fPIC -o n005.so n005.cc"
   ]
  },
  {
   "cell_type": "code",
   "execution_count": 7,
   "id": "1b8a1c0c-85ff-40fe-8ab7-f306dda845fc",
   "metadata": {},
   "outputs": [],
   "source": [
    "ffi = cffi.FFI()"
   ]
  },
  {
   "cell_type": "code",
   "execution_count": 8,
   "id": "eca46069-90c1-4d2e-9364-14e44acbd20f",
   "metadata": {},
   "outputs": [],
   "source": [
    "ffi.cdef(\"\"\"\n",
    "  typedef struct {\n",
    "    double   *buf;\n",
    "    uint64_t  buf_len;\n",
    "    double   *coeffs;\n",
    "    uint64_t  coeffs_len;\n",
    "    int64_t   inow;\n",
    "  } Fir;\n",
    "  double _ZN3Fir4nextEd(Fir *, double);\n",
    "  extern Fir mvav2, mvav4;\n",
    "  extern double mvav2_buf[2];\n",
    "  extern double mvav2_coeffs[2];\n",
    "  extern double mvav4_buf[4];\n",
    "  extern double mvav4_coeffs[4];\n",
    "\"\"\")"
   ]
  },
  {
   "cell_type": "code",
   "execution_count": 9,
   "id": "60e5d288-3d78-4543-8d82-74344b53ca7e",
   "metadata": {},
   "outputs": [],
   "source": [
    "C = ffi.dlopen(\"./n005.so\")"
   ]
  },
  {
   "cell_type": "code",
   "execution_count": 10,
   "id": "729b6267-5099-4aa3-b387-69ba9a2f70ea",
   "metadata": {},
   "outputs": [
    {
     "data": {
      "text/plain": [
       "['_ZN3Fir4nextEd',\n",
       " 'mvav2',\n",
       " 'mvav2_buf',\n",
       " 'mvav2_coeffs',\n",
       " 'mvav4',\n",
       " 'mvav4_buf',\n",
       " 'mvav4_coeffs']"
      ]
     },
     "execution_count": 10,
     "metadata": {},
     "output_type": "execute_result"
    }
   ],
   "source": [
    "dir(C)"
   ]
  },
  {
   "cell_type": "code",
   "execution_count": 11,
   "id": "0a484136-b080-4c56-87f6-b8e7a5b49318",
   "metadata": {},
   "outputs": [
    {
     "data": {
      "text/plain": [
       "<cdata 'Fir &' 0x7f8d802b0080>"
      ]
     },
     "execution_count": 11,
     "metadata": {},
     "output_type": "execute_result"
    }
   ],
   "source": [
    "C.mvav2"
   ]
  },
  {
   "cell_type": "code",
   "execution_count": 12,
   "id": "49ed04c3-9cda-4dbd-aca4-c64d750a6dfe",
   "metadata": {},
   "outputs": [
    {
     "data": {
      "text/plain": [
       "<cdata 'double[2]' 0x7f8d802b0040>"
      ]
     },
     "execution_count": 12,
     "metadata": {},
     "output_type": "execute_result"
    }
   ],
   "source": [
    "C.mvav2_coeffs"
   ]
  },
  {
   "cell_type": "code",
   "execution_count": 13,
   "id": "bc43fb4a-a68c-4fde-95bc-27c3b26214c0",
   "metadata": {},
   "outputs": [
    {
     "data": {
      "text/plain": [
       "['buf', 'buf_len', 'coeffs', 'coeffs_len', 'inow']"
      ]
     },
     "execution_count": 13,
     "metadata": {},
     "output_type": "execute_result"
    }
   ],
   "source": [
    "dir(C.mvav2)"
   ]
  },
  {
   "cell_type": "code",
   "execution_count": 14,
   "id": "1caa2678-7979-4599-9553-7af46c3428fb",
   "metadata": {},
   "outputs": [],
   "source": [
    "tone_os_fil2 = [C._ZN3Fir4nextEd(ffi.addressof(C.mvav2), x) for x in tone_os]"
   ]
  },
  {
   "cell_type": "code",
   "execution_count": 15,
   "id": "6e10b407-97c2-4ef1-98ab-3ec8c52d0336",
   "metadata": {},
   "outputs": [
    {
     "data": {
      "text/plain": [
       "[0.0,\n",
       " 0.0,\n",
       " 0.0,\n",
       " 0.0,\n",
       " 0.3995277307681099,\n",
       " 0.3995277307681099,\n",
       " 0.0,\n",
       " 0.0,\n",
       " 0.4804379483484493,\n",
       " 0.4804379483484493]"
      ]
     },
     "execution_count": 15,
     "metadata": {},
     "output_type": "execute_result"
    }
   ],
   "source": [
    "tone_os_fil2[:10]"
   ]
  },
  {
   "cell_type": "code",
   "execution_count": null,
   "id": "ded8edcb-00fa-4db2-9a65-1482794052f5",
   "metadata": {},
   "outputs": [],
   "source": [
    "IPython.display.Audio(tone_os_fil2, rate=sr*4)"
   ]
  },
  {
   "cell_type": "code",
   "execution_count": 16,
   "id": "e851be95-2474-48c4-a8a2-fe1049c003b8",
   "metadata": {},
   "outputs": [],
   "source": [
    "tone_os_fil4 = [C._ZN3Fir4nextEd(ffi.addressof(C.mvav4), x) for x in tone_os]"
   ]
  },
  {
   "cell_type": "code",
   "execution_count": 17,
   "id": "8ad0ce7f-d2d1-44e0-bc8d-5c4990f8f96d",
   "metadata": {},
   "outputs": [
    {
     "data": {
      "text/plain": [
       "[0.0,\n",
       " 0.0,\n",
       " 0.0,\n",
       " 0.0,\n",
       " 0.19976386538405494,\n",
       " 0.19976386538405494,\n",
       " 0.19976386538405494,\n",
       " 0.19976386538405494,\n",
       " 0.24021897417422464,\n",
       " 0.24021897417422464]"
      ]
     },
     "execution_count": 17,
     "metadata": {},
     "output_type": "execute_result"
    }
   ],
   "source": [
    "tone_os_fil4[:10]"
   ]
  },
  {
   "cell_type": "code",
   "execution_count": null,
   "id": "b272ddac-4870-4917-af06-babd9cc563a0",
   "metadata": {},
   "outputs": [],
   "source": [
    "IPython.display.Audio(tone_os_fil4, rate=sr*4)"
   ]
  },
  {
   "cell_type": "code",
   "execution_count": null,
   "id": "f09ae7e1-1df2-43f4-8aad-ddcb1b5004c1",
   "metadata": {},
   "outputs": [],
   "source": []
  }
 ],
 "metadata": {
  "kernelspec": {
   "display_name": "Python 3 (ipykernel)",
   "language": "python",
   "name": "python3"
  },
  "language_info": {
   "codemirror_mode": {
    "name": "ipython",
    "version": 3
   },
   "file_extension": ".py",
   "mimetype": "text/x-python",
   "name": "python",
   "nbconvert_exporter": "python",
   "pygments_lexer": "ipython3",
   "version": "3.10.12"
  }
 },
 "nbformat": 4,
 "nbformat_minor": 5
}

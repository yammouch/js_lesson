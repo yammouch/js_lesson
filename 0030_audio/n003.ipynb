{
 "cells": [
  {
   "cell_type": "code",
   "execution_count": null,
   "id": "67d0483f-966c-4ed7-b6cb-fd92859a44f6",
   "metadata": {},
   "outputs": [],
   "source": [
    "import IPython\n",
    "import numpy as np\n",
    "import matplotlib.pyplot as plt"
   ]
  },
  {
   "cell_type": "code",
   "execution_count": null,
   "id": "287c5876-b809-45a1-933b-9a80b4d65816",
   "metadata": {},
   "outputs": [],
   "source": [
    "sr = 48000 # sample rate\n",
    "ft = 440 # tone freq"
   ]
  },
  {
   "cell_type": "code",
   "execution_count": null,
   "id": "bce785ba-4c59-48e9-83a0-580c2648521a",
   "metadata": {},
   "outputs": [],
   "source": [
    "tone = np.sin(2*np.pi*ft/sr*np.arange(sr))"
   ]
  },
  {
   "cell_type": "code",
   "execution_count": null,
   "id": "2f284a63-89b5-40bc-b250-0c47ef41db26",
   "metadata": {},
   "outputs": [],
   "source": [
    "fig, ax = plt.subplots()\n",
    "ax.plot(tone[:400])"
   ]
  },
  {
   "cell_type": "code",
   "execution_count": null,
   "id": "5ed8b3a4-f534-4c83-a64b-701c7b704349",
   "metadata": {},
   "outputs": [],
   "source": [
    "IPython.display.Audio(tone, rate=sr)"
   ]
  }
 ],
 "metadata": {
  "kernelspec": {
   "display_name": "Python 3 (ipykernel)",
   "language": "python",
   "name": "python3"
  },
  "language_info": {
   "codemirror_mode": {
    "name": "ipython",
    "version": 3
   },
   "file_extension": ".py",
   "mimetype": "text/x-python",
   "name": "python",
   "nbconvert_exporter": "python",
   "pygments_lexer": "ipython3",
   "version": "3.10.12"
  }
 },
 "nbformat": 4,
 "nbformat_minor": 5
}

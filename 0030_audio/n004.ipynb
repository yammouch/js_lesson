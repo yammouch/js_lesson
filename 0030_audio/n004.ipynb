{
 "cells": [
  {
   "cell_type": "code",
   "execution_count": 1,
   "id": "52c9edfb-c0db-4503-ae82-e13db435762d",
   "metadata": {},
   "outputs": [],
   "source": [
    "import cffi"
   ]
  },
  {
   "cell_type": "code",
   "execution_count": 2,
   "id": "d84abb0f-7a76-4c58-b6c1-42a470d4032c",
   "metadata": {},
   "outputs": [],
   "source": [
    "!g++ -shared -fPIC -o n004.so n004.cc"
   ]
  },
  {
   "cell_type": "code",
   "execution_count": 3,
   "id": "c687d9a2-e9b3-44e3-96fc-6263e9c7f875",
   "metadata": {},
   "outputs": [],
   "source": [
    "ffi = cffi.FFI()"
   ]
  },
  {
   "cell_type": "code",
   "execution_count": 4,
   "id": "dda9e87c-39ea-4a06-af9c-25db963f923e",
   "metadata": {},
   "outputs": [],
   "source": [
    "ffi.cdef(\"\"\"\n",
    "  void init(uint64_t);\n",
    "  void finalize();\n",
    "  typedef struct {\n",
    "    uint64_t x;\n",
    "  } C01;\n",
    "  extern C01 c01, *p_c01;\n",
    "  uint64_t _ZN3C011fEm(C01 *, uint64_t);\n",
    "\"\"\")"
   ]
  },
  {
   "cell_type": "code",
   "execution_count": 5,
   "id": "c9e2b4b5-abb2-40b9-8a9f-ae5c9a7de685",
   "metadata": {},
   "outputs": [],
   "source": [
    "C = ffi.dlopen(\"./n004.so\")"
   ]
  },
  {
   "cell_type": "code",
   "execution_count": 6,
   "id": "0e2cf84d-a278-4f4c-af5c-392e201c3b73",
   "metadata": {
    "scrolled": true
   },
   "outputs": [
    {
     "data": {
      "text/plain": [
       "['_ZN3C011fEm', 'c01', 'finalize', 'init', 'p_c01']"
      ]
     },
     "execution_count": 6,
     "metadata": {},
     "output_type": "execute_result"
    }
   ],
   "source": [
    "dir(C)"
   ]
  },
  {
   "cell_type": "code",
   "execution_count": 7,
   "id": "b942a52d-de1f-4601-8a68-e36a2db36aff",
   "metadata": {},
   "outputs": [
    {
     "data": {
      "text/plain": [
       "<cdata 'C01 &' 0x7fbb1bb1e030>"
      ]
     },
     "execution_count": 7,
     "metadata": {},
     "output_type": "execute_result"
    }
   ],
   "source": [
    "C.c01"
   ]
  },
  {
   "cell_type": "code",
   "execution_count": 8,
   "id": "2a361a52-9c73-436c-9cf2-c4ed5ca9a4fd",
   "metadata": {},
   "outputs": [
    {
     "data": {
      "text/plain": [
       "['x']"
      ]
     },
     "execution_count": 8,
     "metadata": {},
     "output_type": "execute_result"
    }
   ],
   "source": [
    "dir(C.c01)"
   ]
  },
  {
   "cell_type": "code",
   "execution_count": 9,
   "id": "fcc658e6-9381-4bdc-937a-938f905bb379",
   "metadata": {},
   "outputs": [
    {
     "data": {
      "text/plain": [
       "1"
      ]
     },
     "execution_count": 9,
     "metadata": {},
     "output_type": "execute_result"
    }
   ],
   "source": [
    "C.c01.x"
   ]
  },
  {
   "cell_type": "code",
   "execution_count": 10,
   "id": "4eb34bad-be12-4226-b628-fdf4a7dc455e",
   "metadata": {},
   "outputs": [
    {
     "data": {
      "text/plain": [
       "['x']"
      ]
     },
     "execution_count": 10,
     "metadata": {},
     "output_type": "execute_result"
    }
   ],
   "source": [
    "dir(C.c01)"
   ]
  },
  {
   "cell_type": "code",
   "execution_count": 11,
   "id": "d8e77ae1-b31c-4c64-a4a2-7fdbe8eaa003",
   "metadata": {},
   "outputs": [
    {
     "data": {
      "text/plain": [
       "3"
      ]
     },
     "execution_count": 11,
     "metadata": {},
     "output_type": "execute_result"
    }
   ],
   "source": [
    "C._ZN3C011fEm(ffi.addressof(C.c01), 1)"
   ]
  },
  {
   "cell_type": "code",
   "execution_count": 12,
   "id": "0274babb-e6ef-4751-b1bb-2bc4c11ddbc2",
   "metadata": {},
   "outputs": [
    {
     "data": {
      "text/plain": [
       "<cdata 'C01 *' NULL>"
      ]
     },
     "execution_count": 12,
     "metadata": {},
     "output_type": "execute_result"
    }
   ],
   "source": [
    "C.p_c01"
   ]
  },
  {
   "cell_type": "code",
   "execution_count": 13,
   "id": "132daee0-bfc3-4cba-8fe0-3fc7b0e8a850",
   "metadata": {},
   "outputs": [],
   "source": [
    "C.init(0)"
   ]
  },
  {
   "cell_type": "code",
   "execution_count": 14,
   "id": "fe5ec426-7437-4faa-ade0-5231c92a6b12",
   "metadata": {},
   "outputs": [
    {
     "data": {
      "text/plain": [
       "<cdata 'C01 *' 0x556aef8d53b0>"
      ]
     },
     "execution_count": 14,
     "metadata": {},
     "output_type": "execute_result"
    }
   ],
   "source": [
    "C.p_c01"
   ]
  },
  {
   "cell_type": "code",
   "execution_count": 15,
   "id": "8ffa565e-c351-458f-8ec7-09d24249ccde",
   "metadata": {},
   "outputs": [
    {
     "data": {
      "text/plain": [
       "0"
      ]
     },
     "execution_count": 15,
     "metadata": {},
     "output_type": "execute_result"
    }
   ],
   "source": [
    "C.p_c01.x"
   ]
  },
  {
   "cell_type": "code",
   "execution_count": 16,
   "id": "cc984be4-ce01-4c25-b695-584107fbfd90",
   "metadata": {},
   "outputs": [
    {
     "data": {
      "text/plain": [
       "2"
      ]
     },
     "execution_count": 16,
     "metadata": {},
     "output_type": "execute_result"
    }
   ],
   "source": [
    "C._ZN3C011fEm(C.p_c01, 1)"
   ]
  }
 ],
 "metadata": {
  "kernelspec": {
   "display_name": "Python 3 (ipykernel)",
   "language": "python",
   "name": "python3"
  },
  "language_info": {
   "codemirror_mode": {
    "name": "ipython",
    "version": 3
   },
   "file_extension": ".py",
   "mimetype": "text/x-python",
   "name": "python",
   "nbconvert_exporter": "python",
   "pygments_lexer": "ipython3",
   "version": "3.10.12"
  }
 },
 "nbformat": 4,
 "nbformat_minor": 5
}

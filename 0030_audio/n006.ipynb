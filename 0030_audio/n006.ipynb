{
 "cells": [
  {
   "cell_type": "code",
   "execution_count": 1,
   "id": "1317be42-71bc-444f-9b3d-116ac9f1f2c7",
   "metadata": {},
   "outputs": [],
   "source": [
    "import wasmtime"
   ]
  },
  {
   "cell_type": "code",
   "execution_count": 2,
   "id": "cea05997-562c-49de-8886-b2ca516eaa49",
   "metadata": {},
   "outputs": [],
   "source": [
    "!$CXX -O2 -nostartfiles -Wl,--no-entry -Wl,--strip-all -Wl,--export-dynamic -o n006.wasm n006.cc"
   ]
  },
  {
   "cell_type": "code",
   "execution_count": 3,
   "id": "48419a87-eca8-4e36-83cc-eef88f2b53ec",
   "metadata": {},
   "outputs": [],
   "source": [
    "store = wasmtime.Store()"
   ]
  },
  {
   "cell_type": "code",
   "execution_count": 4,
   "id": "4a648a25-fbad-4ee3-8944-d7d773fcd1bc",
   "metadata": {},
   "outputs": [],
   "source": [
    "module = wasmtime.Module.from_file(store.engine, \"n006.wasm\")"
   ]
  },
  {
   "cell_type": "code",
   "execution_count": 5,
   "id": "08b1e42e-9ad0-4af1-bb85-255081261ae1",
   "metadata": {},
   "outputs": [],
   "source": [
    "instance = wasmtime.Instance(store, module, [])"
   ]
  },
  {
   "cell_type": "code",
   "execution_count": 6,
   "id": "3db834f0-096f-4017-a981-610e13dfe9f5",
   "metadata": {},
   "outputs": [
    {
     "data": {
      "text/plain": [
       "['memory', '_Z2x2d']"
      ]
     },
     "execution_count": 6,
     "metadata": {},
     "output_type": "execute_result"
    }
   ],
   "source": [
    "[x.name for x in module.exports]"
   ]
  },
  {
   "cell_type": "code",
   "execution_count": 7,
   "id": "c0966167-36d9-4630-9c02-3dad00e184cc",
   "metadata": {},
   "outputs": [
    {
     "data": {
      "text/plain": [
       "6.0"
      ]
     },
     "execution_count": 7,
     "metadata": {},
     "output_type": "execute_result"
    }
   ],
   "source": [
    "instance.exports(store)[\"_Z2x2d\"](store, 3.0)"
   ]
  }
 ],
 "metadata": {
  "kernelspec": {
   "display_name": "Python 3 (ipykernel)",
   "language": "python",
   "name": "python3"
  },
  "language_info": {
   "codemirror_mode": {
    "name": "ipython",
    "version": 3
   },
   "file_extension": ".py",
   "mimetype": "text/x-python",
   "name": "python",
   "nbconvert_exporter": "python",
   "pygments_lexer": "ipython3",
   "version": "3.10.12"
  }
 },
 "nbformat": 4,
 "nbformat_minor": 5
}

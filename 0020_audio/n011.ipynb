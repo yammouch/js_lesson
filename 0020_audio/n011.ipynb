{
 "cells": [
  {
   "cell_type": "code",
   "execution_count": 1,
   "id": "802c8481-46f1-4980-a4f4-7e4a01334d9d",
   "metadata": {},
   "outputs": [],
   "source": [
    "import math\n",
    "import numpy as np\n",
    "import matplotlib.pyplot as plt"
   ]
  },
  {
   "cell_type": "code",
   "execution_count": 2,
   "id": "45e39933-4dbc-4571-950f-a674fe5356f3",
   "metadata": {},
   "outputs": [],
   "source": [
    "ftone = 1.0/3.0\n",
    "#ftone = 0.09\n",
    "fnyquist = 0.5"
   ]
  },
  {
   "cell_type": "code",
   "execution_count": 3,
   "id": "17fa6bf4-d843-42ed-96b2-bfbff7664af6",
   "metadata": {},
   "outputs": [],
   "source": [
    "fharm = []\n",
    "for i in range(math.floor(fnyquist/ftone)+1):\n",
    "    f = i*ftone\n",
    "    if f != 0 and f != fnyquist:\n",
    "        fharm.append(-f)\n",
    "    fharm.append(f)\n",
    "fharm = np.array(fharm)"
   ]
  },
  {
   "cell_type": "code",
   "execution_count": 4,
   "id": "88b9e0a1-0e33-46bf-b2a8-87b417cbe3c2",
   "metadata": {},
   "outputs": [
    {
     "data": {
      "text/plain": [
       "array([ 0.        , -0.33333333,  0.33333333])"
      ]
     },
     "execution_count": 4,
     "metadata": {},
     "output_type": "execute_result"
    }
   ],
   "source": [
    "fharm"
   ]
  },
  {
   "cell_type": "code",
   "execution_count": 5,
   "id": "61bbc76e-4cf7-42b5-a033-89a111a7f420",
   "metadata": {},
   "outputs": [],
   "source": [
    "circ = np.exp(-2j*np.pi*np.array(fharm))"
   ]
  },
  {
   "cell_type": "code",
   "execution_count": 6,
   "id": "99efc345-3bdc-4dcf-bf1a-6e5adebebc28",
   "metadata": {},
   "outputs": [],
   "source": [
    "binomials = np.moveaxis(np.vstack((circ, np.full_like(circ, -1))), 0, 1)"
   ]
  },
  {
   "cell_type": "code",
   "execution_count": 7,
   "id": "fd650e6f-f60e-4f78-b036-05dbcf9aeea1",
   "metadata": {},
   "outputs": [
    {
     "data": {
      "text/plain": [
       "array([[ 1. +0.j       , -1. +0.j       ],\n",
       "       [-0.5+0.8660254j, -1. +0.j       ],\n",
       "       [-0.5-0.8660254j, -1. +0.j       ]])"
      ]
     },
     "execution_count": 7,
     "metadata": {},
     "output_type": "execute_result"
    }
   ],
   "source": [
    "binomials"
   ]
  },
  {
   "cell_type": "code",
   "execution_count": 8,
   "id": "aa1a07b0-f365-4c96-886b-124e0e84118f",
   "metadata": {},
   "outputs": [],
   "source": [
    "cum = [binomials[0]]\n",
    "for b in binomials[1:-1]:\n",
    "    cum.append(np.convolve(cum[-1], b))"
   ]
  },
  {
   "cell_type": "code",
   "execution_count": 9,
   "id": "5ead82dc-dd8b-4308-8cc9-134d296e4bbd",
   "metadata": {},
   "outputs": [
    {
     "data": {
      "text/plain": [
       "[array([ 1.+0.j, -1.+0.j]),\n",
       " array([-0.5+0.8660254j, -0.5-0.8660254j,  1. +0.j       ])]"
      ]
     },
     "execution_count": 9,
     "metadata": {},
     "output_type": "execute_result"
    }
   ],
   "source": [
    "cum"
   ]
  },
  {
   "cell_type": "code",
   "execution_count": 10,
   "id": "19eb45b4-eb54-422f-b557-a2d40680c944",
   "metadata": {},
   "outputs": [],
   "source": [
    "numer = [cum[-1]]\n",
    "acc = binomials[-1]\n",
    "for c, b in zip(cum[-2::-1], binomials[-2:0:-1]):\n",
    "    numer.append(np.convolve(acc, c))\n",
    "    acc = np.convolve(b, acc)\n",
    "numer.append(acc)\n",
    "numer.reverse()"
   ]
  },
  {
   "cell_type": "code",
   "execution_count": 11,
   "id": "67d5db49-b44d-46d4-9b7e-2fe8581eca83",
   "metadata": {},
   "outputs": [
    {
     "data": {
      "text/plain": [
       "[array([1.+0.j, 1.+0.j, 1.+0.j]),\n",
       " array([-0.5-0.8660254j, -0.5+0.8660254j,  1. +0.j       ]),\n",
       " array([-0.5+0.8660254j, -0.5-0.8660254j,  1. +0.j       ])]"
      ]
     },
     "execution_count": 11,
     "metadata": {},
     "output_type": "execute_result"
    }
   ],
   "source": [
    "numer"
   ]
  },
  {
   "cell_type": "code",
   "execution_count": 12,
   "id": "a4b496b6-5cdb-4956-97e5-39cae40d1abb",
   "metadata": {},
   "outputs": [],
   "source": [
    "denom_fact = circ[:,None]-circ[None,:]+np.eye(len(circ))"
   ]
  },
  {
   "cell_type": "code",
   "execution_count": 13,
   "id": "6ed39e69-696f-4985-827d-85b2df5bf481",
   "metadata": {},
   "outputs": [
    {
     "data": {
      "text/plain": [
       "array([[ 1. +0.j        ,  1.5-0.8660254j ,  1.5+0.8660254j ],\n",
       "       [-1.5+0.8660254j ,  1. +0.j        ,  0. +1.73205081j],\n",
       "       [-1.5-0.8660254j ,  0. -1.73205081j,  1. +0.j        ]])"
      ]
     },
     "execution_count": 13,
     "metadata": {},
     "output_type": "execute_result"
    }
   ],
   "source": [
    "denom_fact"
   ]
  },
  {
   "cell_type": "code",
   "execution_count": 14,
   "id": "d7b5e1e4-3e06-43a3-8cc4-ab5ef3b8a6b8",
   "metadata": {},
   "outputs": [],
   "source": [
    "denom = denom_fact.prod(axis=1)"
   ]
  },
  {
   "cell_type": "code",
   "execution_count": 15,
   "id": "db25fb05-1928-405a-bb97-81c9960b7333",
   "metadata": {},
   "outputs": [
    {
     "data": {
      "text/plain": [
       "array([ 3. +0.j        , -1.5-2.59807621j, -1.5+2.59807621j])"
      ]
     },
     "execution_count": 15,
     "metadata": {},
     "output_type": "execute_result"
    }
   ],
   "source": [
    "denom"
   ]
  },
  {
   "cell_type": "code",
   "execution_count": 16,
   "id": "fa8e2d68-ddb0-49c0-8a52-0757ccdd95ca",
   "metadata": {},
   "outputs": [],
   "source": [
    "dly1st = np.floor(1.0/ftone - 0.5*len(circ))+1"
   ]
  },
  {
   "cell_type": "code",
   "execution_count": 17,
   "id": "d3565438-f46a-4c05-bd18-95a34ce2146a",
   "metadata": {},
   "outputs": [
    {
     "data": {
      "text/plain": [
       "2.0"
      ]
     },
     "execution_count": 17,
     "metadata": {},
     "output_type": "execute_result"
    }
   ],
   "source": [
    "dly1st"
   ]
  },
  {
   "cell_type": "code",
   "execution_count": 18,
   "id": "3679dbe0-a68d-428c-8fc2-d7474356d8a6",
   "metadata": {},
   "outputs": [],
   "source": [
    "dly1st_tone_inv = np.exp(2j*np.pi*dly1st*fharm)"
   ]
  },
  {
   "cell_type": "code",
   "execution_count": 19,
   "id": "351abd0b-ba8e-4664-8a57-c1013930dd16",
   "metadata": {},
   "outputs": [
    {
     "data": {
      "text/plain": [
       "array([ 1. +0.j       , -0.5+0.8660254j, -0.5-0.8660254j])"
      ]
     },
     "execution_count": 19,
     "metadata": {},
     "output_type": "execute_result"
    }
   ],
   "source": [
    "dly1st_tone_inv"
   ]
  },
  {
   "cell_type": "code",
   "execution_count": 20,
   "id": "1b348657-bfcd-480e-8290-1411f9ffe32a",
   "metadata": {},
   "outputs": [
    {
     "data": {
      "text/plain": [
       "array([ 0.33333333+0.j        , -0.16666667-0.28867513j,\n",
       "       -0.16666667+0.28867513j])"
      ]
     },
     "execution_count": 20,
     "metadata": {},
     "output_type": "execute_result"
    }
   ],
   "source": [
    "dly1st_tone_inv/denom"
   ]
  },
  {
   "cell_type": "code",
   "execution_count": 21,
   "id": "55ce5f5b-591b-455a-95c8-c64b2b447403",
   "metadata": {},
   "outputs": [],
   "source": [
    "coeff = (dly1st_tone_inv/denom)[:,None]*numer"
   ]
  },
  {
   "cell_type": "code",
   "execution_count": 22,
   "id": "f1147bf7-ae3a-45bb-9e84-ffa974724a5e",
   "metadata": {},
   "outputs": [
    {
     "data": {
      "text/plain": [
       "array([[ 0.33333333+0.00000000e+00j,  0.33333333+0.00000000e+00j,\n",
       "         0.33333333+0.00000000e+00j],\n",
       "       [-0.16666667+2.88675135e-01j,  0.33333333+2.77555756e-16j,\n",
       "        -0.16666667-2.88675135e-01j],\n",
       "       [-0.16666667-2.88675135e-01j,  0.33333333-2.77555756e-16j,\n",
       "        -0.16666667+2.88675135e-01j]])"
      ]
     },
     "execution_count": 22,
     "metadata": {},
     "output_type": "execute_result"
    }
   ],
   "source": [
    "coeff"
   ]
  },
  {
   "cell_type": "code",
   "execution_count": 23,
   "id": "98726f01-6d23-40fd-b7ed-7bee908dfcc1",
   "metadata": {},
   "outputs": [],
   "source": [
    "fharmplus = fharm[0 <= fharm]"
   ]
  },
  {
   "cell_type": "code",
   "execution_count": 24,
   "id": "ed199655-36fc-46b7-a95d-869c9c1a08b5",
   "metadata": {},
   "outputs": [
    {
     "data": {
      "text/plain": [
       "array([0.        , 0.33333333])"
      ]
     },
     "execution_count": 24,
     "metadata": {},
     "output_type": "execute_result"
    }
   ],
   "source": [
    "fharmplus"
   ]
  },
  {
   "cell_type": "code",
   "execution_count": 25,
   "id": "40126258-5d64-43c0-a06e-1c16789721d5",
   "metadata": {},
   "outputs": [],
   "source": [
    "coeffplus = coeff[0 <= fharm]"
   ]
  },
  {
   "cell_type": "code",
   "execution_count": 26,
   "id": "a85016f6-9e50-47c1-8f16-9db9e925c871",
   "metadata": {},
   "outputs": [
    {
     "data": {
      "text/plain": [
       "array([[ 0.33333333+0.00000000e+00j,  0.33333333+0.00000000e+00j,\n",
       "         0.33333333+0.00000000e+00j],\n",
       "       [-0.16666667-2.88675135e-01j,  0.33333333-2.77555756e-16j,\n",
       "        -0.16666667+2.88675135e-01j]])"
      ]
     },
     "execution_count": 26,
     "metadata": {},
     "output_type": "execute_result"
    }
   ],
   "source": [
    "coeffplus"
   ]
  },
  {
   "cell_type": "code",
   "execution_count": 27,
   "id": "41ebeb31-0568-4261-b412-49a602bd82de",
   "metadata": {},
   "outputs": [],
   "source": [
    "coeff_re = np.real(coeffplus)"
   ]
  },
  {
   "cell_type": "code",
   "execution_count": 28,
   "id": "cb7a43cd-6902-470c-a1bf-222b9afcef04",
   "metadata": {},
   "outputs": [
    {
     "data": {
      "text/plain": [
       "array([[ 0.33333333,  0.33333333,  0.33333333],\n",
       "       [-0.16666667,  0.33333333, -0.16666667]])"
      ]
     },
     "execution_count": 28,
     "metadata": {},
     "output_type": "execute_result"
    }
   ],
   "source": [
    "coeff_re"
   ]
  },
  {
   "cell_type": "code",
   "execution_count": 29,
   "id": "f770a4b2-9c14-4929-bb6b-d139eaa6b112",
   "metadata": {},
   "outputs": [],
   "source": [
    "coeff_re[(fharmplus != 0.0) & (fharmplus != 0.5)] *= 2"
   ]
  },
  {
   "cell_type": "code",
   "execution_count": 30,
   "id": "8e928834-8621-4492-bafb-26601a753fa3",
   "metadata": {},
   "outputs": [
    {
     "data": {
      "text/plain": [
       "array([[ 0.33333333,  0.33333333,  0.33333333],\n",
       "       [-0.33333333,  0.66666667, -0.33333333]])"
      ]
     },
     "execution_count": 30,
     "metadata": {},
     "output_type": "execute_result"
    }
   ],
   "source": [
    "coeff_re"
   ]
  },
  {
   "cell_type": "code",
   "execution_count": 31,
   "id": "1b45fee7-1c30-4151-96c2-886e3d9907a5",
   "metadata": {},
   "outputs": [],
   "source": [
    "ftest = np.arange(0, 0.5, 0.1*ftone)"
   ]
  },
  {
   "cell_type": "code",
   "execution_count": 32,
   "id": "c7c17377-a0d3-4571-b632-15c373556222",
   "metadata": {},
   "outputs": [],
   "source": [
    "transf = (np.exp(-2j*np.pi*np.arange(dly1st, dly1st+len(circ))[None, :]\n",
    "                *ftest[:, None])\n",
    "         *(coeff_re[[1], :].sum(axis=0))[None,:]).sum(axis=1)"
   ]
  },
  {
   "cell_type": "code",
   "execution_count": 33,
   "id": "ce130987-e0a3-41a2-a5aa-e4bd539be8b7",
   "metadata": {},
   "outputs": [
    {
     "data": {
      "image/png": "[encoded data removed]",
      "text/plain": [
       "<Figure size 640x480 with 2 Axes>"
      ]
     },
     "metadata": {},
     "output_type": "display_data"
    }
   ],
   "source": [
    "fig, ax = plt.subplots(2)\n",
    "ax[0].plot(ftest, np.abs(transf), \"o\")\n",
    "ax[1].plot(ftest, np.angle(transf), \"o\")\n",
    "ax[0].grid()\n",
    "ax[1].grid()"
   ]
  },
  {
   "cell_type": "code",
   "execution_count": null,
   "id": "e4a6a642-bd12-4ed4-b1b4-a38be70d74ef",
   "metadata": {},
   "outputs": [],
   "source": []
  },
  {
   "cell_type": "code",
   "execution_count": null,
   "id": "15578934-7609-447a-882b-083662320f6a",
   "metadata": {},
   "outputs": [],
   "source": []
  }
 ],
 "metadata": {
  "kernelspec": {
   "display_name": "Python 3 (ipykernel)",
   "language": "python",
   "name": "python3"
  },
  "language_info": {
   "codemirror_mode": {
    "name": "ipython",
    "version": 3
   },
   "file_extension": ".py",
   "mimetype": "text/x-python",
   "name": "python",
   "nbconvert_exporter": "python",
   "pygments_lexer": "ipython3",
   "version": "3.10.6"
  }
 },
 "nbformat": 4,
 "nbformat_minor": 5
}

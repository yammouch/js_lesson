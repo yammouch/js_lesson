{
 "cells": [
  {
   "cell_type": "code",
   "execution_count": 1,
   "id": "2cea2c08-c7aa-41ac-b32b-ac060160f8c2",
   "metadata": {},
   "outputs": [],
   "source": [
    "import numpy as np\n",
    "import matplotlib.pyplot as plt"
   ]
  },
  {
   "cell_type": "code",
   "execution_count": 2,
   "id": "34bd87cd-c7e7-4b37-b429-2647df558335",
   "metadata": {},
   "outputs": [],
   "source": [
    "fnz = [0, 0.18, 0.27, 0.36, 0.45]"
   ]
  },
  {
   "cell_type": "code",
   "execution_count": 3,
   "id": "15ca68ca-7868-4c93-9709-58e29a593f72",
   "metadata": {},
   "outputs": [],
   "source": [
    "fnorm = 0.09"
   ]
  },
  {
   "cell_type": "code",
   "execution_count": 4,
   "id": "f3c778d6-9ca0-4a00-9f7f-46b0d5601e94",
   "metadata": {},
   "outputs": [],
   "source": [
    "fnznp = np.array(fnz, dtype=np.float64)"
   ]
  },
  {
   "cell_type": "code",
   "execution_count": 5,
   "id": "5c12b427-ae47-4953-aea0-ade7b46b32e9",
   "metadata": {},
   "outputs": [],
   "source": [
    "fnzpm = np.hstack((fnznp, -fnznp[(fnznp != 0.0) & (fnznp != 0.5)], [-fnorm]))"
   ]
  },
  {
   "cell_type": "code",
   "execution_count": 6,
   "id": "28678f77-b84b-47b2-8e15-425087c3078d",
   "metadata": {},
   "outputs": [
    {
     "data": {
      "text/plain": [
       "array([ 0.  ,  0.18,  0.27,  0.36,  0.45, -0.18, -0.27, -0.36, -0.45,\n",
       "       -0.09])"
      ]
     },
     "execution_count": 6,
     "metadata": {},
     "output_type": "execute_result"
    }
   ],
   "source": [
    "fnzpm"
   ]
  },
  {
   "cell_type": "code",
   "execution_count": 7,
   "id": "afbb08ee-2159-4d03-8e1a-d88ebb8c3ff0",
   "metadata": {},
   "outputs": [],
   "source": [
    "binomials = np.vstack((np.exp(-2j*np.pi*fnzpm), np.full_like(fnzpm, -1)))"
   ]
  },
  {
   "cell_type": "code",
   "execution_count": 8,
   "id": "fb0f7521-3fb6-4c72-a0f9-31461799b566",
   "metadata": {},
   "outputs": [],
   "source": [
    "binomials = np.moveaxis(binomials, 0, 1)"
   ]
  },
  {
   "cell_type": "code",
   "execution_count": 9,
   "id": "32fc9099-9eb6-47db-b9b2-ea1199c2222e",
   "metadata": {},
   "outputs": [
    {
     "data": {
      "text/plain": [
       "array([[ 1.        +0.j        , -1.        +0.j        ],\n",
       "       [ 0.42577929-0.90482705j, -1.        +0.j        ],\n",
       "       [-0.12533323-0.9921147j , -1.        +0.j        ],\n",
       "       [-0.63742399-0.77051324j, -1.        +0.j        ],\n",
       "       [-0.95105652-0.30901699j, -1.        +0.j        ],\n",
       "       [ 0.42577929+0.90482705j, -1.        +0.j        ],\n",
       "       [-0.12533323+0.9921147j , -1.        +0.j        ],\n",
       "       [-0.63742399+0.77051324j, -1.        +0.j        ],\n",
       "       [-0.95105652+0.30901699j, -1.        +0.j        ],\n",
       "       [ 0.84432793+0.53582679j, -1.        +0.j        ]])"
      ]
     },
     "execution_count": 9,
     "metadata": {},
     "output_type": "execute_result"
    }
   ],
   "source": [
    "binomials"
   ]
  },
  {
   "cell_type": "code",
   "execution_count": 10,
   "id": "37b5d79d-c13a-425d-9bf7-d90039475dce",
   "metadata": {},
   "outputs": [],
   "source": [
    "numer = binomials[0]"
   ]
  },
  {
   "cell_type": "code",
   "execution_count": 11,
   "id": "0a73bb40-0791-486d-912c-4bb1e6dd11fb",
   "metadata": {},
   "outputs": [],
   "source": [
    "for b in binomials[1:]:\n",
    "    numer = np.convolve(numer, b)"
   ]
  },
  {
   "cell_type": "code",
   "execution_count": 12,
   "id": "90983bbb-7815-4bce-9050-c7d140a73e81",
   "metadata": {},
   "outputs": [
    {
     "data": {
      "text/plain": [
       "array([ 0.84432793+0.53582679j,  0.33071898+0.84449995j,\n",
       "       -0.11844814+0.92503426j, -0.63674739+0.6914943j ,\n",
       "       -0.8731626 +0.264862j  , -0.91166097-0.264862j  ,\n",
       "       -0.59531541-0.6914943j , -0.16710243-0.92503426j,\n",
       "        0.39564907-0.84449995j,  0.73174097-0.53582679j,\n",
       "        1.        +0.j        ])"
      ]
     },
     "execution_count": 12,
     "metadata": {},
     "output_type": "execute_result"
    }
   ],
   "source": [
    "numer"
   ]
  },
  {
   "cell_type": "code",
   "execution_count": 13,
   "id": "a2cbfd72-7469-4543-847c-0ede8ee64bad",
   "metadata": {},
   "outputs": [],
   "source": [
    "denom_factors = np.exp(-2j*np.pi*fnzpm) - np.exp(-2j*np.pi*fnorm)"
   ]
  },
  {
   "cell_type": "code",
   "execution_count": 14,
   "id": "b57e9fdf-1a17-4932-b420-7f99c5f1124b",
   "metadata": {},
   "outputs": [],
   "source": [
    "denom = denom_factors.prod()"
   ]
  },
  {
   "cell_type": "code",
   "execution_count": 15,
   "id": "c912ef3e-850d-4740-a8b7-2b96ca90dc47",
   "metadata": {},
   "outputs": [
    {
     "data": {
      "text/plain": [
       "(8.543610955702608+5.806232009798867j)"
      ]
     },
     "execution_count": 15,
     "metadata": {},
     "output_type": "execute_result"
    }
   ],
   "source": [
    "denom"
   ]
  },
  {
   "cell_type": "code",
   "execution_count": 16,
   "id": "af5e0f96-994b-49f6-8640-ffde63288e23",
   "metadata": {},
   "outputs": [],
   "source": [
    "first_ddelay = np.floor(1/fnorm - 0.5*len(fnzpm) + 1)"
   ]
  },
  {
   "cell_type": "code",
   "execution_count": 17,
   "id": "dba15f19-5e3c-4d7a-92ef-64bd5e7f1bda",
   "metadata": {},
   "outputs": [
    {
     "data": {
      "text/plain": [
       "7.0"
      ]
     },
     "execution_count": 17,
     "metadata": {},
     "output_type": "execute_result"
    }
   ],
   "source": [
    "first_ddelay"
   ]
  },
  {
   "cell_type": "code",
   "execution_count": 18,
   "id": "172dd850-854f-4d6b-b72b-8e131ae641ef",
   "metadata": {},
   "outputs": [],
   "source": [
    "coeffs = numer/denom"
   ]
  },
  {
   "cell_type": "code",
   "execution_count": 19,
   "id": "039f3831-4232-4dea-ba41-645d25d14bf1",
   "metadata": {},
   "outputs": [
    {
     "data": {
      "text/plain": [
       "array([ 0.09675914-0.00304078j,  0.07243196+0.04962108j,\n",
       "        0.0408506 +0.08051001j, -0.01335586+0.09001364j,\n",
       "       -0.05549953+0.06871862j, -0.08740615+0.02839998j,\n",
       "       -0.08529185-0.02297273j, -0.06371381-0.06497219j,\n",
       "       -0.01427376-0.08914535j,  0.02943215-0.08271873j,\n",
       "        0.08006711-0.05441355j])"
      ]
     },
     "execution_count": 19,
     "metadata": {},
     "output_type": "execute_result"
    }
   ],
   "source": [
    "coeffs"
   ]
  },
  {
   "cell_type": "code",
   "execution_count": 20,
   "id": "12c30399-7593-466e-b760-fff2dcdb1a4a",
   "metadata": {},
   "outputs": [
    {
     "data": {
      "text/plain": [
       "(-0.6845471059286886-0.7289686274214116j)"
      ]
     },
     "execution_count": 20,
     "metadata": {},
     "output_type": "execute_result"
    }
   ],
   "source": [
    "np.exp(2j*np.pi*fnorm*first_ddelay)"
   ]
  },
  {
   "cell_type": "code",
   "execution_count": 21,
   "id": "18c1b12b-6293-4723-bc89-d4ec9961859f",
   "metadata": {},
   "outputs": [],
   "source": [
    "coeffs = coeffs*np.exp(2j*np.pi*fnorm*first_ddelay)"
   ]
  },
  {
   "cell_type": "code",
   "execution_count": 22,
   "id": "097909ba-43e0-4bdd-8de4-726e7278eab5",
   "metadata": {},
   "outputs": [
    {
     "data": {
      "text/plain": [
       "array([-0.06845282-0.06845282j, -0.01341088-0.08676859j,\n",
       "        0.03072511-0.0848917j ,  0.07475984-0.05188257j,\n",
       "        0.08808576-0.00658372j,  0.08053632+0.04427522j,\n",
       "        0.04163989+0.077901j  , -0.00374758+0.09092189j,\n",
       "       -0.0552131 +0.07142932j, -0.08044705+0.03516976j,\n",
       "       -0.09447549-0.02111777j])"
      ]
     },
     "execution_count": 22,
     "metadata": {},
     "output_type": "execute_result"
    }
   ],
   "source": [
    "coeffs"
   ]
  },
  {
   "cell_type": "code",
   "execution_count": 23,
   "id": "92e696da-3479-4395-be81-6aab493ffa71",
   "metadata": {},
   "outputs": [],
   "source": [
    "coeffs_re = 2*np.real(coeffs)"
   ]
  },
  {
   "cell_type": "code",
   "execution_count": 24,
   "id": "79456aec-725f-48d4-ad85-5143f9964ca0",
   "metadata": {},
   "outputs": [
    {
     "data": {
      "text/plain": [
       "array([-0.13690564, -0.02682176,  0.06145022,  0.14951968,  0.17617151,\n",
       "        0.16107264,  0.08327979, -0.00749516, -0.11042619, -0.1608941 ,\n",
       "       -0.18895097])"
      ]
     },
     "execution_count": 24,
     "metadata": {},
     "output_type": "execute_result"
    }
   ],
   "source": [
    "coeffs_re"
   ]
  },
  {
   "cell_type": "code",
   "execution_count": 25,
   "id": "75465851-2b03-4f62-9dc8-66c3df2fcbf3",
   "metadata": {},
   "outputs": [],
   "source": [
    "transf = (np.exp(-2j*np.pi*np.arange(first_ddelay, first_ddelay+len(fnzpm)+1)[None, :]\n",
    "                *np.arange(0, 0.5, 0.1*fnorm)[:, None])\n",
    "                *coeffs_re[None, :]).sum(axis=1)"
   ]
  },
  {
   "cell_type": "code",
   "execution_count": 26,
   "id": "220229e3-cd6c-450f-9f89-1cc77fd7c672",
   "metadata": {},
   "outputs": [
    {
     "data": {
      "image/png": "[encoded data removed]",
      "text/plain": [
       "<Figure size 640x480 with 2 Axes>"
      ]
     },
     "metadata": {},
     "output_type": "display_data"
    }
   ],
   "source": [
    "fig, ax = plt.subplots(2)\n",
    "ax[0].plot(np.arange(0, 0.5, 0.1*fnorm), np.abs(transf), \"o\")\n",
    "ax[1].plot(np.arange(0, 0.5, 0.1*fnorm), np.angle(transf), \"o\")\n",
    "ax[0].grid()\n",
    "ax[1].grid()"
   ]
  },
  {
   "cell_type": "code",
   "execution_count": 27,
   "id": "d6a2b61a-f4d5-456a-aa60-0b2ffbcf3838",
   "metadata": {},
   "outputs": [
    {
     "data": {
      "text/plain": [
       "array([6.93889390e-16, 9.80798118e-02, 2.00937552e-01, 3.11408204e-01,\n",
       "       4.29309471e-01, 5.51423519e-01, 6.72172280e-01, 7.84563658e-01,\n",
       "       8.81155110e-01, 9.54924026e-01, 1.00000000e+00, 1.01223528e+00,\n",
       "       9.89596451e-01, 9.32366254e-01, 8.43152641e-01, 7.26712769e-01,\n",
       "       5.89610956e-01, 4.39740588e-01, 2.85749032e-01, 1.36411142e-01,\n",
       "       1.90242150e-15, 1.16296911e-01, 2.06872102e-01, 2.68066445e-01,\n",
       "       2.98385133e-01, 2.98546949e-01, 2.71365633e-01, 2.21475208e-01,\n",
       "       1.54923054e-01, 7.86645074e-02, 4.00296604e-16, 7.40003684e-02,\n",
       "       1.37039562e-01, 1.84061630e-01, 2.11609524e-01, 2.18046450e-01,\n",
       "       2.03625761e-01, 1.70406653e-01, 1.22025343e-01, 6.33428265e-02,\n",
       "       1.41988150e-15, 6.20820401e-02, 1.17214742e-01, 1.60425591e-01,\n",
       "       1.87872952e-01, 1.97158940e-01, 1.87515711e-01, 1.59851251e-01,\n",
       "       1.16652414e-01, 6.17548005e-02, 5.88784672e-16, 6.31901134e-02,\n",
       "       1.22285612e-01, 1.72127215e-01, 2.08371053e-01, 2.27862075e-01])"
      ]
     },
     "execution_count": 27,
     "metadata": {},
     "output_type": "execute_result"
    }
   ],
   "source": [
    "np.abs(transf)"
   ]
  },
  {
   "cell_type": "code",
   "execution_count": null,
   "id": "9d775ff3-b0b6-4201-8e6a-7de605e97d44",
   "metadata": {},
   "outputs": [],
   "source": []
  }
 ],
 "metadata": {
  "kernelspec": {
   "display_name": "Python 3 (ipykernel)",
   "language": "python",
   "name": "python3"
  },
  "language_info": {
   "codemirror_mode": {
    "name": "ipython",
    "version": 3
   },
   "file_extension": ".py",
   "mimetype": "text/x-python",
   "name": "python",
   "nbconvert_exporter": "python",
   "pygments_lexer": "ipython3",
   "version": "3.10.6"
  }
 },
 "nbformat": 4,
 "nbformat_minor": 5
}

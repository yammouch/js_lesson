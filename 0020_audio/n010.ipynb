{
 "cells": [
  {
   "cell_type": "code",
   "execution_count": 1,
   "id": "2cea2c08-c7aa-41ac-b32b-ac060160f8c2",
   "metadata": {},
   "outputs": [],
   "source": [
    "import numpy as np\n",
    "import matplotlib.pyplot as plt"
   ]
  },
  {
   "cell_type": "code",
   "execution_count": 2,
   "id": "34bd87cd-c7e7-4b37-b429-2647df558335",
   "metadata": {},
   "outputs": [],
   "source": [
    "fnz = []"
   ]
  },
  {
   "cell_type": "code",
   "execution_count": 3,
   "id": "15ca68ca-7868-4c93-9709-58e29a593f72",
   "metadata": {},
   "outputs": [],
   "source": [
    "fnorm = 0.09"
   ]
  },
  {
   "cell_type": "code",
   "execution_count": 4,
   "id": "f3c778d6-9ca0-4a00-9f7f-46b0d5601e94",
   "metadata": {},
   "outputs": [],
   "source": [
    "fnznp = np.array(fnz, dtype=np.float64)"
   ]
  },
  {
   "cell_type": "code",
   "execution_count": 5,
   "id": "5c12b427-ae47-4953-aea0-ade7b46b32e9",
   "metadata": {},
   "outputs": [],
   "source": [
    "fnzpm = np.hstack((fnznp, -fnznp[(fnznp != 0.0) & (fnznp != 0.5)], [-fnorm]))"
   ]
  },
  {
   "cell_type": "code",
   "execution_count": 6,
   "id": "28678f77-b84b-47b2-8e15-425087c3078d",
   "metadata": {},
   "outputs": [
    {
     "data": {
      "text/plain": [
       "array([-0.09])"
      ]
     },
     "execution_count": 6,
     "metadata": {},
     "output_type": "execute_result"
    }
   ],
   "source": [
    "fnzpm"
   ]
  },
  {
   "cell_type": "code",
   "execution_count": 7,
   "id": "afbb08ee-2159-4d03-8e1a-d88ebb8c3ff0",
   "metadata": {},
   "outputs": [],
   "source": [
    "binomials = np.vstack((np.exp(-2j*np.pi*fnzpm), np.full_like(fnzpm, -1)))"
   ]
  },
  {
   "cell_type": "code",
   "execution_count": 8,
   "id": "fb0f7521-3fb6-4c72-a0f9-31461799b566",
   "metadata": {},
   "outputs": [],
   "source": [
    "binomials = np.moveaxis(binomials, 0, 1)"
   ]
  },
  {
   "cell_type": "code",
   "execution_count": 9,
   "id": "32fc9099-9eb6-47db-b9b2-ea1199c2222e",
   "metadata": {},
   "outputs": [
    {
     "data": {
      "text/plain": [
       "array([[ 0.84432793+0.53582679j, -1.        +0.j        ]])"
      ]
     },
     "execution_count": 9,
     "metadata": {},
     "output_type": "execute_result"
    }
   ],
   "source": [
    "binomials"
   ]
  },
  {
   "cell_type": "code",
   "execution_count": 10,
   "id": "37b5d79d-c13a-425d-9bf7-d90039475dce",
   "metadata": {},
   "outputs": [],
   "source": [
    "numer = binomials[0]"
   ]
  },
  {
   "cell_type": "code",
   "execution_count": 11,
   "id": "0a73bb40-0791-486d-912c-4bb1e6dd11fb",
   "metadata": {},
   "outputs": [],
   "source": [
    "for b in binomials[1:]:\n",
    "    numer = np.concolve(acc, b)"
   ]
  },
  {
   "cell_type": "code",
   "execution_count": 12,
   "id": "90983bbb-7815-4bce-9050-c7d140a73e81",
   "metadata": {},
   "outputs": [
    {
     "data": {
      "text/plain": [
       "array([ 0.84432793+0.53582679j, -1.        +0.j        ])"
      ]
     },
     "execution_count": 12,
     "metadata": {},
     "output_type": "execute_result"
    }
   ],
   "source": [
    "numer"
   ]
  },
  {
   "cell_type": "code",
   "execution_count": 13,
   "id": "a2cbfd72-7469-4543-847c-0ede8ee64bad",
   "metadata": {},
   "outputs": [],
   "source": [
    "denom_factors = np.exp(-2j*np.pi*fnzpm) - np.exp(-2j*np.pi*fnorm)"
   ]
  },
  {
   "cell_type": "code",
   "execution_count": 14,
   "id": "b57e9fdf-1a17-4932-b420-7f99c5f1124b",
   "metadata": {},
   "outputs": [],
   "source": [
    "denom = denom_factors.prod()"
   ]
  },
  {
   "cell_type": "code",
   "execution_count": 15,
   "id": "c912ef3e-850d-4740-a8b7-2b96ca90dc47",
   "metadata": {},
   "outputs": [
    {
     "data": {
      "text/plain": [
       "1.0716535899579933j"
      ]
     },
     "execution_count": 15,
     "metadata": {},
     "output_type": "execute_result"
    }
   ],
   "source": [
    "denom"
   ]
  },
  {
   "cell_type": "code",
   "execution_count": 16,
   "id": "af5e0f96-994b-49f6-8640-ffde63288e23",
   "metadata": {},
   "outputs": [],
   "source": [
    "first_ddelay = np.floor(1/fnorm - 0.5*len(fnzpm) + 1)"
   ]
  },
  {
   "cell_type": "code",
   "execution_count": 17,
   "id": "dba15f19-5e3c-4d7a-92ef-64bd5e7f1bda",
   "metadata": {},
   "outputs": [
    {
     "data": {
      "text/plain": [
       "11.0"
      ]
     },
     "execution_count": 17,
     "metadata": {},
     "output_type": "execute_result"
    }
   ],
   "source": [
    "first_ddelay"
   ]
  },
  {
   "cell_type": "code",
   "execution_count": 18,
   "id": "172dd850-854f-4d6b-b72b-8e131ae641ef",
   "metadata": {},
   "outputs": [],
   "source": [
    "coeffs = numer/denom"
   ]
  },
  {
   "cell_type": "code",
   "execution_count": 19,
   "id": "039f3831-4232-4dea-ba41-645d25d14bf1",
   "metadata": {},
   "outputs": [
    {
     "data": {
      "text/plain": [
       "array([0.5-0.78787393j, 0. +0.93313736j])"
      ]
     },
     "execution_count": 19,
     "metadata": {},
     "output_type": "execute_result"
    }
   ],
   "source": [
    "coeffs"
   ]
  },
  {
   "cell_type": "code",
   "execution_count": 20,
   "id": "12c30399-7593-466e-b760-fff2dcdb1a4a",
   "metadata": {},
   "outputs": [
    {
     "data": {
      "text/plain": [
       "(0.9980267284282716-0.06279051952931326j)"
      ]
     },
     "execution_count": 20,
     "metadata": {},
     "output_type": "execute_result"
    }
   ],
   "source": [
    "np.exp(2j*np.pi*fnorm*first_ddelay)"
   ]
  },
  {
   "cell_type": "code",
   "execution_count": 21,
   "id": "18c1b12b-6293-4723-bc89-d4ec9961859f",
   "metadata": {},
   "outputs": [],
   "source": [
    "coeffs = coeffs*np.exp(2j*np.pi*fnorm*first_ddelay)"
   ]
  },
  {
   "cell_type": "code",
   "execution_count": 22,
   "id": "097909ba-43e0-4bdd-8de4-726e7278eab5",
   "metadata": {},
   "outputs": [
    {
     "data": {
      "text/plain": [
       "array([0.44954235-0.8177145j , 0.05859218+0.93129602j])"
      ]
     },
     "execution_count": 22,
     "metadata": {},
     "output_type": "execute_result"
    }
   ],
   "source": [
    "coeffs"
   ]
  },
  {
   "cell_type": "code",
   "execution_count": 23,
   "id": "92e696da-3479-4395-be81-6aab493ffa71",
   "metadata": {},
   "outputs": [],
   "source": [
    "coeffs_re = 2*np.real(coeffs)"
   ]
  },
  {
   "cell_type": "code",
   "execution_count": 24,
   "id": "79456aec-725f-48d4-ad85-5143f9964ca0",
   "metadata": {},
   "outputs": [
    {
     "data": {
      "text/plain": [
       "array([0.8990847 , 0.11718436])"
      ]
     },
     "execution_count": 24,
     "metadata": {},
     "output_type": "execute_result"
    }
   ],
   "source": [
    "coeffs_re"
   ]
  },
  {
   "cell_type": "code",
   "execution_count": 25,
   "id": "75465851-2b03-4f62-9dc8-66c3df2fcbf3",
   "metadata": {},
   "outputs": [],
   "source": [
    "transf = (np.exp(-2j*np.pi*np.arange(first_ddelay, first_ddelay+len(fnzpm)+1)[None, :]\n",
    "                *np.arange(0, 0.5, 0.25*fnorm)[:, None])\n",
    "                *coeffs_re[None, :]).sum(axis=1)"
   ]
  },
  {
   "cell_type": "code",
   "execution_count": 26,
   "id": "220229e3-cd6c-450f-9f89-1cc77fd7c672",
   "metadata": {},
   "outputs": [
    {
     "data": {
      "image/png": "[encoded data removed]",
      "text/plain": [
       "<Figure size 640x480 with 2 Axes>"
      ]
     },
     "metadata": {},
     "output_type": "display_data"
    }
   ],
   "source": [
    "fig, ax = plt.subplots(2)\n",
    "ax[0].plot(np.arange(0, 0.5, 0.25*fnorm), np.abs(transf), \"o\")\n",
    "ax[1].plot(np.arange(0, 0.5, 0.25*fnorm), np.angle(transf), \"o\")\n",
    "ax[0].grid()\n",
    "ax[1].grid()"
   ]
  },
  {
   "cell_type": "code",
   "execution_count": 28,
   "id": "d6a2b61a-f4d5-456a-aa60-0b2ffbcf3838",
   "metadata": {},
   "outputs": [
    {
     "data": {
      "text/plain": [
       "array([ 0.01626906,  0.01523427,  0.01214426,  0.00704217,  0.        ,\n",
       "       -0.00888134, -0.01947191, -0.03161263, -0.04511543, -0.0597634 ,\n",
       "       -0.07531144, -0.09148733, -0.1079935 , -0.12450994, -0.14069823,\n",
       "       -0.15620739, -0.17068149, -0.1837694 , -0.19513649, -0.20447784,\n",
       "       -0.21153225, -0.21609575, -0.21803317])"
      ]
     },
     "execution_count": 28,
     "metadata": {},
     "output_type": "execute_result"
    }
   ],
   "source": [
    "np.abs(transf)-1"
   ]
  },
  {
   "cell_type": "code",
   "execution_count": null,
   "id": "9d775ff3-b0b6-4201-8e6a-7de605e97d44",
   "metadata": {},
   "outputs": [],
   "source": []
  }
 ],
 "metadata": {
  "kernelspec": {
   "display_name": "Python 3 (ipykernel)",
   "language": "python",
   "name": "python3"
  },
  "language_info": {
   "codemirror_mode": {
    "name": "ipython",
    "version": 3
   },
   "file_extension": ".py",
   "mimetype": "text/x-python",
   "name": "python",
   "nbconvert_exporter": "python",
   "pygments_lexer": "ipython3",
   "version": "3.10.6"
  }
 },
 "nbformat": 4,
 "nbformat_minor": 5
}

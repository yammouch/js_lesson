{
 "cells": [
  {
   "cell_type": "code",
   "execution_count": null,
   "id": "3d89bbbc-7d42-416a-baf2-ec460d3d7d9f",
   "metadata": {},
   "outputs": [],
   "source": [
    "import math\n",
    "import numpy as np\n",
    "import matplotlib.pyplot as plt"
   ]
  },
  {
   "cell_type": "code",
   "execution_count": null,
   "id": "5855eabf-360e-4f2c-b4f5-3e24a127b33a",
   "metadata": {},
   "outputs": [],
   "source": [
    "def make_ddelay(div_ratio, n):\n",
    "    rv = []\n",
    "    lo = math.floor(div_ratio)\n",
    "    hi = lo + 1\n",
    "    if 0.5 <= div_ratio - lo and 0 < n:\n",
    "        rv.append(hi)\n",
    "        hi += 1\n",
    "        n -= 1\n",
    "    while 0 < n:\n",
    "        rv.append(lo)\n",
    "        lo -= 1\n",
    "        n -= 1\n",
    "        if n <= 0:\n",
    "            break\n",
    "        rv.append(hi)\n",
    "        hi += 1\n",
    "        n -= 1\n",
    "    return rv"
   ]
  },
  {
   "cell_type": "code",
   "execution_count": null,
   "id": "95e50b20-0a3a-40df-a207-0bc5051ef002",
   "metadata": {},
   "outputs": [],
   "source": [
    "class FDFir(object):\n",
    "    def __init__(self, n_harm, div_ratio, ndof):\n",
    "        ddelay = np.array(make_ddelay(div_ratio, 2*n_harm+1+ndof)[::-1])\n",
    "        phase_delay = -2*np.pi*ddelay[None, :]/div_ratio*np.arange(0, n_harm+1)[:, None]\n",
    "        sys = np.hstack(\n",
    "         (np.vstack((np.cos(phase_delay), np.sin(phase_delay[1:]))),\n",
    "          np.vstack((np.ones((n_harm+1, 1)), np.zeros((n_harm, 1))))))\n",
    "        constraint = np.linalg.solve(sys[:,0:sys.shape[0]], sys[:,sys.shape[0]:])\n",
    "        if 1 <= ndof:\n",
    "            b = np.zeros_like(ddelay, dtype=np.float64)\n",
    "            b[:constraint.shape[0]] -= constraint[:,-1]\n",
    "            a = np.vstack((-constraint[:,:-1], np.eye(constraint.shape[1]-1)))\n",
    "            dof = np.linalg.lstsq(a, b, rcond=-1)\n",
    "            coeff = np.hstack(\n",
    "             (np.dot(constraint, np.hstack((-dof[0], [1]))),\n",
    "              dof[0]))\n",
    "        else:\n",
    "            coeff = constraint[:,0]\n",
    "        self.coeff = coeff\n",
    "        self.ddelay = ddelay\n",
    "\n",
    "    def transf(self, f_norm):\n",
    "        return (np.exp(-2j*np.pi*self.ddelay[None, :]*f_norm[:, None])*self.coeff[None, :]).sum(axis=1)"
   ]
  },
  {
   "cell_type": "code",
   "execution_count": null,
   "id": "8f7fbf94-14b3-4801-be7d-a59588be0aab",
   "metadata": {},
   "outputs": [],
   "source": [
    "div_ratio = 48000/440; div_ratio"
   ]
  },
  {
   "cell_type": "code",
   "execution_count": null,
   "id": "c9356f5a-9ad5-421c-a0e5-01b624a927a6",
   "metadata": {},
   "outputs": [],
   "source": [
    "hmax = math.floor(div_ratio+0.5)-1\n",
    "f_norm_test = np.arange(0, 0.5, 0.01)\n",
    "for harm in range(1, hmax+1):\n",
    "    for ndof in range(2*(hmax-harm), 0, -1):\n",
    "        try:\n",
    "            fdfir = FDFir(harm, div_ratio, ndof)\n",
    "            transf = fdfir.transf(f_norm_test)\n",
    "            print(harm, ndof, np.abs(transf).max())\n",
    "        except Exception:\n",
    "            print(harm, ndof)"
   ]
  }
 ],
 "metadata": {
  "kernelspec": {
   "display_name": "Python 3 (ipykernel)",
   "language": "python",
   "name": "python3"
  },
  "language_info": {
   "codemirror_mode": {
    "name": "ipython",
    "version": 3
   },
   "file_extension": ".py",
   "mimetype": "text/x-python",
   "name": "python",
   "nbconvert_exporter": "python",
   "pygments_lexer": "ipython3",
   "version": "3.10.6"
  }
 },
 "nbformat": 4,
 "nbformat_minor": 5
}

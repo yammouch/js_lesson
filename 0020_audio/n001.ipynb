{
 "cells": [
  {
   "cell_type": "code",
   "execution_count": 1,
   "id": "4edafed3-7daf-4457-86be-1c3a05379d6c",
   "metadata": {},
   "outputs": [],
   "source": [
    "import numpy as np\n",
    "import matplotlib.pyplot as plt"
   ]
  },
  {
   "cell_type": "code",
   "execution_count": 2,
   "id": "0a5df6aa-a3a4-41f3-86df-c14f78968cc8",
   "metadata": {},
   "outputs": [],
   "source": [
    "n_harm = 10\n",
    "f_root = 440\n",
    "f_sample = 48000"
   ]
  },
  {
   "cell_type": "code",
   "execution_count": 3,
   "id": "7b43e6d2-dd59-4119-a474-409e5c8194a0",
   "metadata": {},
   "outputs": [],
   "source": [
    "itap = np.ceil(f_sample/f_root) + np.arange(-n_harm, n_harm)"
   ]
  },
  {
   "cell_type": "code",
   "execution_count": 4,
   "id": "c5dfd436-5f5d-42f8-a66f-cd6201314c4e",
   "metadata": {},
   "outputs": [],
   "source": [
    "ph0 = (itap * f_root / f_sample - 1)[None, :] * np.arange(1, n_harm+1)[:, None]"
   ]
  },
  {
   "cell_type": "code",
   "execution_count": 5,
   "id": "bc5c405b-f527-4688-9b5a-e41895c77d10",
   "metadata": {},
   "outputs": [],
   "source": [
    "phase = -2*np.pi*ph0"
   ]
  },
  {
   "cell_type": "code",
   "execution_count": 6,
   "id": "ff556c23-d695-40ed-a18d-79df703bba3f",
   "metadata": {},
   "outputs": [],
   "source": [
    "lhs = np.concatenate((np.cos(phase), np.sin(phase)))"
   ]
  },
  {
   "cell_type": "code",
   "execution_count": 7,
   "id": "342f0ede-fca9-497e-9a85-ff620a50ebc9",
   "metadata": {},
   "outputs": [],
   "source": [
    "rhs = np.concatenate((np.ones(n_harm), np.zeros(n_harm)))"
   ]
  },
  {
   "cell_type": "code",
   "execution_count": 8,
   "id": "02cf1434-8aed-48ed-bd9d-0639ea8c626b",
   "metadata": {},
   "outputs": [],
   "source": [
    "coeffs = np.linalg.solve(lhs, rhs)"
   ]
  },
  {
   "cell_type": "code",
   "execution_count": 9,
   "id": "abe88040-8eff-4458-93d7-78d1ca17b0e5",
   "metadata": {},
   "outputs": [
    {
     "data": {
      "text/plain": [
       "array([ 1.06088600e-07,  3.33464823e-06, -7.23792174e-05,  6.28565938e-04,\n",
       "       -3.34410452e-03,  1.25400055e-02, -3.57020278e-02,  8.17695358e-02,\n",
       "       -1.66576043e-01,  1.11558256e+00, -5.54513169e-02,  1.01467997e-01,\n",
       "       -8.67585691e-02,  5.52462912e-02, -2.72788308e-02,  1.03712762e-02,\n",
       "       -2.94732408e-03,  5.91256123e-04, -7.48369635e-05,  4.50238173e-06])"
      ]
     },
     "execution_count": 9,
     "metadata": {},
     "output_type": "execute_result"
    }
   ],
   "source": [
    "coeffs"
   ]
  },
  {
   "cell_type": "code",
   "execution_count": 10,
   "id": "9ec93196-57ab-4ca5-a073-0fcf33bb4add",
   "metadata": {},
   "outputs": [
    {
     "data": {
      "text/plain": [
       "[<matplotlib.lines.Line2D at 0x7f7faf06a830>]"
      ]
     },
     "execution_count": 10,
     "metadata": {},
     "output_type": "execute_result"
    },
    {
     "data": {
      "image/png": "[encoded data removed]",
      "text/plain": [
       "<Figure size 640x480 with 1 Axes>"
      ]
     },
     "metadata": {},
     "output_type": "display_data"
    }
   ],
   "source": [
    "fig, ax = plt.subplots(1)\n",
    "ax.plot(coeffs)"
   ]
  },
  {
   "cell_type": "code",
   "execution_count": 11,
   "id": "c7604750-9ff6-4e19-91ac-8efcade2906a",
   "metadata": {},
   "outputs": [],
   "source": [
    "test_phase = np.arange(n_harm*2) * -2*np.pi * f_root/4*np.arange(1, 51)[:,None]/f_sample"
   ]
  },
  {
   "cell_type": "code",
   "execution_count": 12,
   "id": "74776fc2-6913-4d73-8475-dfdebaf84582",
   "metadata": {},
   "outputs": [],
   "source": [
    "transf = (coeffs*np.exp(1j * test_phase)).sum(axis=-1)"
   ]
  },
  {
   "cell_type": "code",
   "execution_count": 13,
   "id": "b50e5e36-a318-4ca8-914a-d2c7be8e3b45",
   "metadata": {},
   "outputs": [],
   "source": [
    "angle = np.angle(transf)"
   ]
  },
  {
   "cell_type": "code",
   "execution_count": 14,
   "id": "9ad86b67-c9c5-4450-a81c-3bc1e8e1d7f7",
   "metadata": {},
   "outputs": [
    {
     "data": {
      "text/plain": [
       "array([ 2.50000000e-01,  5.00000000e-01,  7.50000000e-01,  1.00000000e+00,\n",
       "        1.25000000e+00,  1.50000000e+00,  1.75000000e+00,  2.00000000e+00,\n",
       "        2.25000000e+00,  2.50000000e+00,  2.75000000e+00,  3.00000000e+00,\n",
       "        3.25000000e+00,  3.50000000e+00,  3.75000000e+00,  4.00000000e+00,\n",
       "        4.25000000e+00,  4.50000000e+00,  4.75000000e+00,  5.00000000e+00,\n",
       "        5.25000000e+00,  5.50000000e+00,  5.75000000e+00,  6.00000000e+00,\n",
       "       -5.75000000e+00, -5.50000000e+00, -5.25000000e+00, -5.00000000e+00,\n",
       "       -4.75000000e+00, -4.50000000e+00, -4.25000000e+00, -4.00000000e+00,\n",
       "       -3.75000000e+00, -3.50000000e+00, -3.25000000e+00, -3.00000000e+00,\n",
       "       -2.75000000e+00, -2.50000000e+00, -2.25000000e+00, -2.00000000e+00,\n",
       "       -1.75000000e+00, -1.50000000e+00, -1.25000000e+00, -1.00000000e+00,\n",
       "       -7.50000000e-01, -5.00000000e-01, -2.50000000e-01, -1.09383662e-10,\n",
       "        2.50000000e-01,  5.00000000e-01])"
      ]
     },
     "execution_count": 14,
     "metadata": {},
     "output_type": "execute_result"
    }
   ],
   "source": [
    "angle / angle[3]"
   ]
  },
  {
   "cell_type": "code",
   "execution_count": 15,
   "id": "b9a117b7-d964-4598-8fb8-c1eaa11a2a3d",
   "metadata": {},
   "outputs": [
    {
     "data": {
      "text/plain": [
       "array([1., 1., 1., 1., 1., 1., 1., 1., 1., 1., 1., 1., 1., 1., 1., 1., 1.,\n",
       "       1., 1., 1., 1., 1., 1., 1., 1., 1., 1., 1., 1., 1., 1., 1., 1., 1.,\n",
       "       1., 1., 1., 1., 1., 1., 1., 1., 1., 1., 1., 1., 1., 1., 1., 1.])"
      ]
     },
     "execution_count": 15,
     "metadata": {},
     "output_type": "execute_result"
    }
   ],
   "source": [
    "np.abs(transf)"
   ]
  },
  {
   "cell_type": "code",
   "execution_count": null,
   "id": "5aa1b943-ba9d-4b35-9c29-0247e6da4056",
   "metadata": {},
   "outputs": [],
   "source": []
  }
 ],
 "metadata": {
  "kernelspec": {
   "display_name": "Python 3 (ipykernel)",
   "language": "python",
   "name": "python3"
  },
  "language_info": {
   "codemirror_mode": {
    "name": "ipython",
    "version": 3
   },
   "file_extension": ".py",
   "mimetype": "text/x-python",
   "name": "python",
   "nbconvert_exporter": "python",
   "pygments_lexer": "ipython3",
   "version": "3.10.6"
  }
 },
 "nbformat": 4,
 "nbformat_minor": 5
}

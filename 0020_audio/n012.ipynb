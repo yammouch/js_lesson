{
 "cells": [
  {
   "cell_type": "code",
   "execution_count": 1,
   "id": "802c8481-46f1-4980-a4f4-7e4a01334d9d",
   "metadata": {},
   "outputs": [],
   "source": [
    "import numpy as np\n",
    "import matplotlib.pyplot as plt"
   ]
  },
  {
   "cell_type": "code",
   "execution_count": 2,
   "id": "45e39933-4dbc-4571-950f-a674fe5356f3",
   "metadata": {},
   "outputs": [],
   "source": [
    "ftone = 0.09\n",
    "fnyquist = 0.5"
   ]
  },
  {
   "cell_type": "code",
   "execution_count": 3,
   "id": "17fa6bf4-d843-42ed-96b2-bfbff7664af6",
   "metadata": {},
   "outputs": [],
   "source": [
    "fharm = np.arange(1, np.floor(fnyquist/ftone)+1)*ftone"
   ]
  },
  {
   "cell_type": "code",
   "execution_count": 4,
   "id": "88b9e0a1-0e33-46bf-b2a8-87b417cbe3c2",
   "metadata": {},
   "outputs": [
    {
     "data": {
      "text/plain": [
       "array([0.09, 0.18, 0.27, 0.36, 0.45])"
      ]
     },
     "execution_count": 4,
     "metadata": {},
     "output_type": "execute_result"
    }
   ],
   "source": [
    "fharm"
   ]
  },
  {
   "cell_type": "code",
   "execution_count": 5,
   "id": "eca9aca6-885d-4ad1-8bad-d3730be10521",
   "metadata": {},
   "outputs": [],
   "source": [
    "coeffs = np.array([1.0])\n",
    "for f in fharm:\n",
    "    coeffs = np.convolve(\n",
    "        coeffs,\n",
    "        [-1.0, -1.0] if f == fnyquist else [1.0, -2*np.cos(2*np.pi*f), 1.0])"
   ]
  },
  {
   "cell_type": "code",
   "execution_count": 6,
   "id": "2b2f0806-6569-4fed-a3f6-3ed6cd878b17",
   "metadata": {},
   "outputs": [
    {
     "data": {
      "text/plain": [
       "array([1.        , 0.88741305, 0.95234314, 0.90368884, 0.94512082,\n",
       "       0.90662245, 0.94512082, 0.90368884, 0.95234314, 0.88741305,\n",
       "       1.        ])"
      ]
     },
     "execution_count": 6,
     "metadata": {},
     "output_type": "execute_result"
    }
   ],
   "source": [
    "coeffs"
   ]
  },
  {
   "cell_type": "code",
   "execution_count": 7,
   "id": "b8e1d716-2b55-49f3-a825-86ebcf8e2cfe",
   "metadata": {},
   "outputs": [],
   "source": [
    "coeffs /= coeffs.sum()"
   ]
  },
  {
   "cell_type": "code",
   "execution_count": 8,
   "id": "46f96a75-b8d0-49ae-95ab-07a7f7e26642",
   "metadata": {},
   "outputs": [
    {
     "data": {
      "text/plain": [
       "array([0.09724075, 0.08629271, 0.09260656, 0.08787538, 0.09190426,\n",
       "       0.08816065, 0.09190426, 0.08787538, 0.09260656, 0.08629271,\n",
       "       0.09724075])"
      ]
     },
     "execution_count": 8,
     "metadata": {},
     "output_type": "execute_result"
    }
   ],
   "source": [
    "coeffs"
   ]
  },
  {
   "cell_type": "code",
   "execution_count": 9,
   "id": "fa8e2d68-ddb0-49c0-8a52-0757ccdd95ca",
   "metadata": {},
   "outputs": [],
   "source": [
    "dly1st = np.floor(1.0/ftone - 0.5*len(coeffs))+1"
   ]
  },
  {
   "cell_type": "code",
   "execution_count": 10,
   "id": "d3565438-f46a-4c05-bd18-95a34ce2146a",
   "metadata": {},
   "outputs": [
    {
     "data": {
      "text/plain": [
       "6.0"
      ]
     },
     "execution_count": 10,
     "metadata": {},
     "output_type": "execute_result"
    }
   ],
   "source": [
    "dly1st"
   ]
  },
  {
   "cell_type": "code",
   "execution_count": 11,
   "id": "1b45fee7-1c30-4151-96c2-886e3d9907a5",
   "metadata": {},
   "outputs": [],
   "source": [
    "ftest = np.arange(0, 0.5, 0.1*ftone)"
   ]
  },
  {
   "cell_type": "code",
   "execution_count": 12,
   "id": "c7c17377-a0d3-4571-b632-15c373556222",
   "metadata": {},
   "outputs": [],
   "source": [
    "transf = (np.exp(-2j*np.pi*np.arange(dly1st, dly1st+len(coeffs))[None, :]\n",
    "                *ftest[:, None])\n",
    "         *coeffs[None,:]).sum(axis=1)"
   ]
  },
  {
   "cell_type": "code",
   "execution_count": 13,
   "id": "ce130987-e0a3-41a2-a5aa-e4bd539be8b7",
   "metadata": {},
   "outputs": [
    {
     "data": {
      "image/png": "[encoded data removed]",
      "text/plain": [
       "<Figure size 640x480 with 2 Axes>"
      ]
     },
     "metadata": {},
     "output_type": "display_data"
    }
   ],
   "source": [
    "fig, ax = plt.subplots(2)\n",
    "ax[0].plot(ftest, np.abs(transf), \"o\")\n",
    "ax[1].plot(ftest, np.angle(transf), \"o\")\n",
    "ax[0].grid()\n",
    "ax[1].grid()"
   ]
  }
 ],
 "metadata": {
  "kernelspec": {
   "display_name": "Python 3 (ipykernel)",
   "language": "python",
   "name": "python3"
  },
  "language_info": {
   "codemirror_mode": {
    "name": "ipython",
    "version": 3
   },
   "file_extension": ".py",
   "mimetype": "text/x-python",
   "name": "python",
   "nbconvert_exporter": "python",
   "pygments_lexer": "ipython3",
   "version": "3.10.6"
  }
 },
 "nbformat": 4,
 "nbformat_minor": 5
}

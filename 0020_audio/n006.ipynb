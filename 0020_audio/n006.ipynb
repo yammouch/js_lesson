{
 "cells": [
  {
   "cell_type": "code",
   "execution_count": 1,
   "id": "3d89bbbc-7d42-416a-baf2-ec460d3d7d9f",
   "metadata": {},
   "outputs": [],
   "source": [
    "import math\n",
    "import numpy as np\n",
    "import matplotlib.pyplot as plt"
   ]
  },
  {
   "cell_type": "code",
   "execution_count": 2,
   "id": "5855eabf-360e-4f2c-b4f5-3e24a127b33a",
   "metadata": {},
   "outputs": [],
   "source": [
    "def make_ddelay(div_ratio, n):\n",
    "    rv = []\n",
    "    lo = math.floor(div_ratio)\n",
    "    hi = lo + 1\n",
    "    if 0.5 <= div_ratio - lo and 0 < n:\n",
    "        rv.append(hi)\n",
    "        hi += 1\n",
    "        n -= 1\n",
    "    while 0 < n:\n",
    "        rv.append(lo)\n",
    "        lo -= 1\n",
    "        n -= 1\n",
    "        if n <= 0:\n",
    "            break\n",
    "        rv.append(hi)\n",
    "        hi += 1\n",
    "        n -= 1\n",
    "    return rv"
   ]
  },
  {
   "cell_type": "code",
   "execution_count": 3,
   "id": "031eedc8-4514-4355-82a8-f9f3284b4905",
   "metadata": {},
   "outputs": [],
   "source": [
    "n_harm = 1\n",
    "div_ratio = 48000/440\n",
    "ddelay = np.array(make_ddelay(div_ratio, 3)[::-1])\n",
    "phase_delay = -2*np.pi*ddelay[None, :]/div_ratio*np.arange(1, n_harm+1)[:, None]"
   ]
  },
  {
   "cell_type": "code",
   "execution_count": 4,
   "id": "a62d45e0-aebe-45de-81c6-05a75f724166",
   "metadata": {},
   "outputs": [
    {
     "data": {
      "text/plain": [
       "(109.0909090909091,\n",
       " array([108, 110, 109]),\n",
       " array([[-6.22035345, -6.33554518, -6.27794932]]))"
      ]
     },
     "execution_count": 4,
     "metadata": {},
     "output_type": "execute_result"
    }
   ],
   "source": [
    "div_ratio, ddelay, phase_delay"
   ]
  },
  {
   "cell_type": "code",
   "execution_count": 5,
   "id": "3055f6dd-ba36-4e70-8950-fa02032df49c",
   "metadata": {},
   "outputs": [],
   "source": [
    "sys = np.hstack(\n",
    "    (np.vstack((np.cos(phase_delay[0:1]), np.sin(phase_delay))),\n",
    "     np.vstack((np.ones((1, 1)), np.zeros((n_harm, 1))))))"
   ]
  },
  {
   "cell_type": "code",
   "execution_count": 6,
   "id": "e8407d01-2a8b-44d5-b8b3-0131f2900245",
   "metadata": {},
   "outputs": [
    {
     "data": {
      "text/plain": [
       "array([[ 0.99802673,  0.99862953,  0.99998629,  1.        ],\n",
       "       [ 0.06279052, -0.05233596,  0.00523596,  0.        ]])"
      ]
     },
     "execution_count": 6,
     "metadata": {},
     "output_type": "execute_result"
    }
   ],
   "source": [
    "sys"
   ]
  },
  {
   "cell_type": "code",
   "execution_count": 7,
   "id": "322aa6e4-84c0-46da-a5d4-4a13337b49ee",
   "metadata": {},
   "outputs": [],
   "source": [
    "constraint = np.linalg.solve(sys[:,0:sys.shape[0]], sys[:,sys.shape[0]:])"
   ]
  },
  {
   "cell_type": "code",
   "execution_count": 8,
   "id": "aeef0afa-cd34-46b1-b2fc-237767144414",
   "metadata": {},
   "outputs": [
    {
     "data": {
      "text/plain": [
       "array([[0.50083047, 0.45534413],\n",
       "       [0.50083047, 0.54630308]])"
      ]
     },
     "execution_count": 8,
     "metadata": {},
     "output_type": "execute_result"
    }
   ],
   "source": [
    "constraint"
   ]
  },
  {
   "cell_type": "code",
   "execution_count": 9,
   "id": "d66a8440-6873-461f-b695-2262df20639c",
   "metadata": {},
   "outputs": [],
   "source": [
    "b = np.sinc(div_ratio - ddelay)"
   ]
  },
  {
   "cell_type": "code",
   "execution_count": 10,
   "id": "7d401d17-c31d-4f42-9a94-099e3dafa258",
   "metadata": {},
   "outputs": [
    {
     "data": {
      "text/plain": [
       "array([-0.08220507,  0.09864608,  0.98646084])"
      ]
     },
     "execution_count": 10,
     "metadata": {},
     "output_type": "execute_result"
    }
   ],
   "source": [
    "b"
   ]
  },
  {
   "cell_type": "code",
   "execution_count": 11,
   "id": "22da2811-d09d-4ad8-ad7e-41ab0ba4aa07",
   "metadata": {},
   "outputs": [],
   "source": [
    "b[:constraint.shape[0]] += constraint[:,-1]"
   ]
  },
  {
   "cell_type": "code",
   "execution_count": 12,
   "id": "8e3278e3-f44c-4e26-aace-0efc8d3cc147",
   "metadata": {},
   "outputs": [
    {
     "data": {
      "text/plain": [
       "array([0.37313906, 0.64494917, 0.98646084])"
      ]
     },
     "execution_count": 12,
     "metadata": {},
     "output_type": "execute_result"
    }
   ],
   "source": [
    "b"
   ]
  },
  {
   "cell_type": "code",
   "execution_count": 13,
   "id": "ea4d36d7-650c-42dd-9fa1-eab150aa0812",
   "metadata": {},
   "outputs": [],
   "source": [
    "a = np.vstack((constraint[:,:-1], np.eye(constraint.shape[1]-1)))"
   ]
  },
  {
   "cell_type": "code",
   "execution_count": 14,
   "id": "8d66aa62-3464-4685-82fa-2013f652c6f5",
   "metadata": {},
   "outputs": [
    {
     "data": {
      "text/plain": [
       "array([[0.50083047],\n",
       "       [0.50083047],\n",
       "       [1.        ]])"
      ]
     },
     "execution_count": 14,
     "metadata": {},
     "output_type": "execute_result"
    }
   ],
   "source": [
    "a"
   ]
  },
  {
   "cell_type": "code",
   "execution_count": 15,
   "id": "8023356d-e2c9-4bd6-a8b0-07c39262c235",
   "metadata": {},
   "outputs": [],
   "source": [
    "dof = np.linalg.lstsq(a, b, rcond=-1)"
   ]
  },
  {
   "cell_type": "code",
   "execution_count": 16,
   "id": "a920705a-5d05-44d3-b5c0-c87ddf63611b",
   "metadata": {},
   "outputs": [
    {
     "data": {
      "text/plain": [
       "(array([0.99646267]), array([0.03723981]), 1, array([1.22542332]))"
      ]
     },
     "execution_count": 16,
     "metadata": {},
     "output_type": "execute_result"
    }
   ],
   "source": [
    "dof"
   ]
  },
  {
   "cell_type": "code",
   "execution_count": 17,
   "id": "9825c6b0-18a1-4c41-b331-18bd023e2b76",
   "metadata": {},
   "outputs": [],
   "source": [
    "coeff = np.hstack(\n",
    "    (np.dot(constraint, np.hstack((dof[0], [1]))),\n",
    "     dof[0]))"
   ]
  },
  {
   "cell_type": "code",
   "execution_count": 18,
   "id": "696d7401-a14f-4cc5-a1b6-37ccfbf4cca9",
   "metadata": {},
   "outputs": [
    {
     "data": {
      "text/plain": [
       "array([0.95440299, 1.04536195, 0.99646267])"
      ]
     },
     "execution_count": 18,
     "metadata": {},
     "output_type": "execute_result"
    }
   ],
   "source": [
    "coeff"
   ]
  },
  {
   "cell_type": "code",
   "execution_count": null,
   "id": "2d05da4b-27f5-430a-bd8d-bff48157fa2f",
   "metadata": {},
   "outputs": [],
   "source": []
  }
 ],
 "metadata": {
  "kernelspec": {
   "display_name": "Python 3 (ipykernel)",
   "language": "python",
   "name": "python3"
  },
  "language_info": {
   "codemirror_mode": {
    "name": "ipython",
    "version": 3
   },
   "file_extension": ".py",
   "mimetype": "text/x-python",
   "name": "python",
   "nbconvert_exporter": "python",
   "pygments_lexer": "ipython3",
   "version": "3.10.6"
  }
 },
 "nbformat": 4,
 "nbformat_minor": 5
}
